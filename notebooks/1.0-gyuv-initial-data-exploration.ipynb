{
 "cells": [
  {
   "cell_type": "markdown",
   "metadata": {},
   "source": [
    "## 1 combine_data"
   ]
  },
  {
   "cell_type": "code",
   "execution_count": null,
   "metadata": {},
   "outputs": [],
   "source": [
    "import pandas as pd"
   ]
  },
  {
   "cell_type": "code",
   "execution_count": 11,
   "metadata": {},
   "outputs": [],
   "source": [
    "train_path = 'C:\\\\Users\\\\Юрий\\\\Documents\\\\MLOps\\\\atms_popularity\\\\data\\\\raw\\\\train.csv'\n",
    "test_path = 'C:\\\\Users\\\\Юрий\\\\Documents\\\\MLOps\\\\atms_popularity\\\\data\\\\raw\\\\test.csv'"
   ]
  },
  {
   "cell_type": "code",
   "execution_count": 12,
   "metadata": {},
   "outputs": [],
   "source": [
    "train_df = pd.read_csv(train_path, index_col=0)\n",
    "test_df = pd.read_csv(test_path, index_col=0)"
   ]
  },
  {
   "cell_type": "code",
   "execution_count": 22,
   "metadata": {},
   "outputs": [
    {
     "data": {
      "text/plain": [
       "((6261, 8), (2504, 7))"
      ]
     },
     "execution_count": 22,
     "metadata": {},
     "output_type": "execute_result"
    }
   ],
   "source": [
    "train_df.shape, test_df.shape"
   ]
  },
  {
   "cell_type": "code",
   "execution_count": 17,
   "metadata": {},
   "outputs": [],
   "source": [
    "train_df[\"is_train\"] = 1\n",
    "test_df[\"is_train\"] = 0"
   ]
  },
  {
   "cell_type": "code",
   "execution_count": 23,
   "metadata": {},
   "outputs": [],
   "source": [
    "combined_df = pd.concat([train_df, test_df], sort=False)"
   ]
  },
  {
   "cell_type": "code",
   "execution_count": 26,
   "metadata": {},
   "outputs": [
    {
     "data": {
      "text/html": [
       "<div>\n",
       "<style scoped>\n",
       "    .dataframe tbody tr th:only-of-type {\n",
       "        vertical-align: middle;\n",
       "    }\n",
       "\n",
       "    .dataframe tbody tr th {\n",
       "        vertical-align: top;\n",
       "    }\n",
       "\n",
       "    .dataframe thead th {\n",
       "        text-align: right;\n",
       "    }\n",
       "</style>\n",
       "<table border=\"1\" class=\"dataframe\">\n",
       "  <thead>\n",
       "    <tr style=\"text-align: right;\">\n",
       "      <th></th>\n",
       "      <th>id</th>\n",
       "      <th>atm_group</th>\n",
       "      <th>address</th>\n",
       "      <th>address_rus</th>\n",
       "      <th>lat</th>\n",
       "      <th>long</th>\n",
       "      <th>target</th>\n",
       "      <th>is_train</th>\n",
       "    </tr>\n",
       "  </thead>\n",
       "  <tbody>\n",
       "    <tr>\n",
       "      <th>0</th>\n",
       "      <td>8526.0</td>\n",
       "      <td>32.0</td>\n",
       "      <td>EMELYANOVA,34          Y-SAKHALINSK</td>\n",
       "      <td>улица А.О. Емельянова, 34, Южно-Сахалинск, Сах...</td>\n",
       "      <td>46.940995</td>\n",
       "      <td>142.738319</td>\n",
       "      <td>0.01150</td>\n",
       "      <td>1</td>\n",
       "    </tr>\n",
       "    <tr>\n",
       "      <th>1</th>\n",
       "      <td>8532.0</td>\n",
       "      <td>32.0</td>\n",
       "      <td>KOMSOMOLSKAYA,259B     Y.SAKHALINSK</td>\n",
       "      <td>Комсомольская улица, 259, Южно-Сахалинск, Саха...</td>\n",
       "      <td>46.937353</td>\n",
       "      <td>142.753348</td>\n",
       "      <td>0.02971</td>\n",
       "      <td>1</td>\n",
       "    </tr>\n",
       "  </tbody>\n",
       "</table>\n",
       "</div>"
      ],
      "text/plain": [
       "       id  atm_group                                 address  \\\n",
       "0  8526.0       32.0  EMELYANOVA,34          Y-SAKHALINSK      \n",
       "1  8532.0       32.0  KOMSOMOLSKAYA,259B     Y.SAKHALINSK      \n",
       "\n",
       "                                         address_rus        lat        long  \\\n",
       "0  улица А.О. Емельянова, 34, Южно-Сахалинск, Сах...  46.940995  142.738319   \n",
       "1  Комсомольская улица, 259, Южно-Сахалинск, Саха...  46.937353  142.753348   \n",
       "\n",
       "    target  is_train  \n",
       "0  0.01150         1  \n",
       "1  0.02971         1  "
      ]
     },
     "execution_count": 26,
     "metadata": {},
     "output_type": "execute_result"
    }
   ],
   "source": [
    "combined_df.head(2)"
   ]
  },
  {
   "cell_type": "code",
   "execution_count": 27,
   "metadata": {},
   "outputs": [
    {
     "data": {
      "text/plain": [
       "(8765, 8)"
      ]
     },
     "execution_count": 27,
     "metadata": {},
     "output_type": "execute_result"
    }
   ],
   "source": [
    "combined_df.shape"
   ]
  },
  {
   "cell_type": "code",
   "execution_count": 29,
   "metadata": {},
   "outputs": [
    {
     "name": "stdout",
     "output_type": "stream",
     "text": [
      "<class 'pandas.core.frame.DataFrame'>\n",
      "Int64Index: 8765 entries, 0 to 2503\n",
      "Data columns (total 8 columns):\n",
      " #   Column       Non-Null Count  Dtype  \n",
      "---  ------       --------------  -----  \n",
      " 0   id           8765 non-null   float64\n",
      " 1   atm_group    8765 non-null   float64\n",
      " 2   address      8765 non-null   object \n",
      " 3   address_rus  8345 non-null   object \n",
      " 4   lat          8345 non-null   float64\n",
      " 5   long         8345 non-null   float64\n",
      " 6   target       6261 non-null   float64\n",
      " 7   is_train     8765 non-null   int64  \n",
      "dtypes: float64(5), int64(1), object(2)\n",
      "memory usage: 616.3+ KB\n"
     ]
    }
   ],
   "source": [
    "combined_df.info()"
   ]
  },
  {
   "cell_type": "code",
   "execution_count": 32,
   "metadata": {},
   "outputs": [
    {
     "data": {
      "text/plain": [
       "id                0\n",
       "atm_group         0\n",
       "address           0\n",
       "address_rus     420\n",
       "lat             420\n",
       "long            420\n",
       "target         2504\n",
       "is_train          0\n",
       "dtype: int64"
      ]
     },
     "execution_count": 32,
     "metadata": {},
     "output_type": "execute_result"
    }
   ],
   "source": [
    "combined_df.isnull().sum()"
   ]
  },
  {
   "cell_type": "markdown",
   "metadata": {},
   "source": [
    "## 2 find_gaps"
   ]
  },
  {
   "cell_type": "code",
   "execution_count": 36,
   "metadata": {
    "scrolled": true
   },
   "outputs": [
    {
     "data": {
      "text/html": [
       "<div>\n",
       "<style scoped>\n",
       "    .dataframe tbody tr th:only-of-type {\n",
       "        vertical-align: middle;\n",
       "    }\n",
       "\n",
       "    .dataframe tbody tr th {\n",
       "        vertical-align: top;\n",
       "    }\n",
       "\n",
       "    .dataframe thead th {\n",
       "        text-align: right;\n",
       "    }\n",
       "</style>\n",
       "<table border=\"1\" class=\"dataframe\">\n",
       "  <thead>\n",
       "    <tr style=\"text-align: right;\">\n",
       "      <th></th>\n",
       "      <th>id</th>\n",
       "      <th>atm_group</th>\n",
       "      <th>address</th>\n",
       "      <th>address_rus</th>\n",
       "      <th>lat</th>\n",
       "      <th>long</th>\n",
       "      <th>target</th>\n",
       "      <th>is_train</th>\n",
       "    </tr>\n",
       "  </thead>\n",
       "  <tbody>\n",
       "    <tr>\n",
       "      <th>40</th>\n",
       "      <td>4510.0</td>\n",
       "      <td>496.5</td>\n",
       "      <td>PER. BAZARNY 4            SPASSK-DALNY</td>\n",
       "      <td>NaN</td>\n",
       "      <td>NaN</td>\n",
       "      <td>NaN</td>\n",
       "      <td>0.039191</td>\n",
       "      <td>1</td>\n",
       "    </tr>\n",
       "    <tr>\n",
       "      <th>150</th>\n",
       "      <td>347.0</td>\n",
       "      <td>1022.0</td>\n",
       "      <td>ABB 6B NAB-CHELNINSKIJ    NAB.CHELNY</td>\n",
       "      <td>NaN</td>\n",
       "      <td>NaN</td>\n",
       "      <td>NaN</td>\n",
       "      <td>-0.145001</td>\n",
       "      <td>1</td>\n",
       "    </tr>\n",
       "    <tr>\n",
       "      <th>182</th>\n",
       "      <td>1591.0</td>\n",
       "      <td>1942.0</td>\n",
       "      <td>16A BEREJKOVSK NAB        MOSCOW</td>\n",
       "      <td>NaN</td>\n",
       "      <td>NaN</td>\n",
       "      <td>NaN</td>\n",
       "      <td>0.080034</td>\n",
       "      <td>1</td>\n",
       "    </tr>\n",
       "    <tr>\n",
       "      <th>192</th>\n",
       "      <td>440.0</td>\n",
       "      <td>1942.0</td>\n",
       "      <td>113 MIRA AV.              TOGLIATTI</td>\n",
       "      <td>NaN</td>\n",
       "      <td>NaN</td>\n",
       "      <td>NaN</td>\n",
       "      <td>-0.082956</td>\n",
       "      <td>1</td>\n",
       "    </tr>\n",
       "    <tr>\n",
       "      <th>214</th>\n",
       "      <td>556.0</td>\n",
       "      <td>1942.0</td>\n",
       "      <td>133A MOZHAYSKOE H/W.      MOSCOW</td>\n",
       "      <td>NaN</td>\n",
       "      <td>NaN</td>\n",
       "      <td>NaN</td>\n",
       "      <td>0.061517</td>\n",
       "      <td>1</td>\n",
       "    </tr>\n",
       "    <tr>\n",
       "      <th>...</th>\n",
       "      <td>...</td>\n",
       "      <td>...</td>\n",
       "      <td>...</td>\n",
       "      <td>...</td>\n",
       "      <td>...</td>\n",
       "      <td>...</td>\n",
       "      <td>...</td>\n",
       "      <td>...</td>\n",
       "    </tr>\n",
       "    <tr>\n",
       "      <th>2346</th>\n",
       "      <td>3199.0</td>\n",
       "      <td>8083.0</td>\n",
       "      <td>MOROZOVA P.L., 86      KHabarovsk</td>\n",
       "      <td>NaN</td>\n",
       "      <td>NaN</td>\n",
       "      <td>NaN</td>\n",
       "      <td>NaN</td>\n",
       "      <td>0</td>\n",
       "    </tr>\n",
       "    <tr>\n",
       "      <th>2399</th>\n",
       "      <td>5354.0</td>\n",
       "      <td>5478.0</td>\n",
       "      <td>D. 15, UL. 78 DOBROVOL'CH KRASNOYARSK</td>\n",
       "      <td>NaN</td>\n",
       "      <td>NaN</td>\n",
       "      <td>NaN</td>\n",
       "      <td>NaN</td>\n",
       "      <td>0</td>\n",
       "    </tr>\n",
       "    <tr>\n",
       "      <th>2471</th>\n",
       "      <td>3333.0</td>\n",
       "      <td>8083.0</td>\n",
       "      <td>OKTYABRSKAYA, 105      Tver</td>\n",
       "      <td>NaN</td>\n",
       "      <td>NaN</td>\n",
       "      <td>NaN</td>\n",
       "      <td>NaN</td>\n",
       "      <td>0</td>\n",
       "    </tr>\n",
       "    <tr>\n",
       "      <th>2474</th>\n",
       "      <td>2247.0</td>\n",
       "      <td>3185.5</td>\n",
       "      <td>UL. TELEVIZORNAJA,        KRASNOJARSK</td>\n",
       "      <td>NaN</td>\n",
       "      <td>NaN</td>\n",
       "      <td>NaN</td>\n",
       "      <td>NaN</td>\n",
       "      <td>0</td>\n",
       "    </tr>\n",
       "    <tr>\n",
       "      <th>2486</th>\n",
       "      <td>5347.0</td>\n",
       "      <td>5478.0</td>\n",
       "      <td>D. 109, KORP. 3, UL. BOGD CHEBOXARY G</td>\n",
       "      <td>NaN</td>\n",
       "      <td>NaN</td>\n",
       "      <td>NaN</td>\n",
       "      <td>NaN</td>\n",
       "      <td>0</td>\n",
       "    </tr>\n",
       "  </tbody>\n",
       "</table>\n",
       "<p>420 rows × 8 columns</p>\n",
       "</div>"
      ],
      "text/plain": [
       "          id  atm_group                                 address address_rus  \\\n",
       "40    4510.0      496.5  PER. BAZARNY 4            SPASSK-DALNY         NaN   \n",
       "150    347.0     1022.0  ABB 6B NAB-CHELNINSKIJ    NAB.CHELNY           NaN   \n",
       "182   1591.0     1942.0  16A BEREJKOVSK NAB        MOSCOW               NaN   \n",
       "192    440.0     1942.0  113 MIRA AV.              TOGLIATTI            NaN   \n",
       "214    556.0     1942.0  133A MOZHAYSKOE H/W.      MOSCOW               NaN   \n",
       "...      ...        ...                                     ...         ...   \n",
       "2346  3199.0     8083.0  MOROZOVA P.L., 86      KHabarovsk              NaN   \n",
       "2399  5354.0     5478.0  D. 15, UL. 78 DOBROVOL'CH KRASNOYARSK          NaN   \n",
       "2471  3333.0     8083.0  OKTYABRSKAYA, 105      Tver                    NaN   \n",
       "2474  2247.0     3185.5  UL. TELEVIZORNAJA,        KRASNOJARSK          NaN   \n",
       "2486  5347.0     5478.0  D. 109, KORP. 3, UL. BOGD CHEBOXARY G          NaN   \n",
       "\n",
       "      lat  long    target  is_train  \n",
       "40    NaN   NaN  0.039191         1  \n",
       "150   NaN   NaN -0.145001         1  \n",
       "182   NaN   NaN  0.080034         1  \n",
       "192   NaN   NaN -0.082956         1  \n",
       "214   NaN   NaN  0.061517         1  \n",
       "...   ...   ...       ...       ...  \n",
       "2346  NaN   NaN       NaN         0  \n",
       "2399  NaN   NaN       NaN         0  \n",
       "2471  NaN   NaN       NaN         0  \n",
       "2474  NaN   NaN       NaN         0  \n",
       "2486  NaN   NaN       NaN         0  \n",
       "\n",
       "[420 rows x 8 columns]"
      ]
     },
     "execution_count": 36,
     "metadata": {},
     "output_type": "execute_result"
    }
   ],
   "source": [
    "combined_df[combined_df['address_rus'].isnull()]"
   ]
  },
  {
   "cell_type": "code",
   "execution_count": 54,
   "metadata": {},
   "outputs": [
    {
     "data": {
      "text/plain": [
       "['D.', '109,', 'KORP.', '3,', 'UL.', 'BOGD', 'CHEBOXARY', 'G']"
      ]
     },
     "execution_count": 54,
     "metadata": {},
     "output_type": "execute_result"
    }
   ],
   "source": [
    "'D. 109, KORP. 3, UL. BOGD CHEBOXARY G'.split()"
   ]
  },
  {
   "cell_type": "code",
   "execution_count": 51,
   "metadata": {},
   "outputs": [
    {
     "data": {
      "text/plain": [
       "'KRASNOJARSK'"
      ]
     },
     "execution_count": 51,
     "metadata": {},
     "output_type": "execute_result"
    }
   ],
   "source": [
    "'UL. TELEVIZORNAJA, KRASNOJARSK'.split()[-1]"
   ]
  },
  {
   "cell_type": "code",
   "execution_count": 53,
   "metadata": {
    "scrolled": true
   },
   "outputs": [
    {
     "data": {
      "text/html": [
       "<div>\n",
       "<style scoped>\n",
       "    .dataframe tbody tr th:only-of-type {\n",
       "        vertical-align: middle;\n",
       "    }\n",
       "\n",
       "    .dataframe tbody tr th {\n",
       "        vertical-align: top;\n",
       "    }\n",
       "\n",
       "    .dataframe thead th {\n",
       "        text-align: right;\n",
       "    }\n",
       "</style>\n",
       "<table border=\"1\" class=\"dataframe\">\n",
       "  <thead>\n",
       "    <tr style=\"text-align: right;\">\n",
       "      <th></th>\n",
       "      <th>id</th>\n",
       "      <th>atm_group</th>\n",
       "      <th>address</th>\n",
       "      <th>address_rus</th>\n",
       "      <th>lat</th>\n",
       "      <th>long</th>\n",
       "      <th>target</th>\n",
       "      <th>is_train</th>\n",
       "    </tr>\n",
       "  </thead>\n",
       "  <tbody>\n",
       "    <tr>\n",
       "      <th>0</th>\n",
       "      <td>8526.0</td>\n",
       "      <td>32.0</td>\n",
       "      <td>EMELYANOVA,34          Y-SAKHALINSK</td>\n",
       "      <td>улица А.О. Емельянова, 34, Южно-Сахалинск, Сах...</td>\n",
       "      <td>46.940995</td>\n",
       "      <td>142.738319</td>\n",
       "      <td>0.011500</td>\n",
       "      <td>1</td>\n",
       "    </tr>\n",
       "    <tr>\n",
       "      <th>1</th>\n",
       "      <td>8532.0</td>\n",
       "      <td>32.0</td>\n",
       "      <td>KOMSOMOLSKAYA,259B     Y.SAKHALINSK</td>\n",
       "      <td>Комсомольская улица, 259, Южно-Сахалинск, Саха...</td>\n",
       "      <td>46.937353</td>\n",
       "      <td>142.753348</td>\n",
       "      <td>0.029710</td>\n",
       "      <td>1</td>\n",
       "    </tr>\n",
       "    <tr>\n",
       "      <th>2</th>\n",
       "      <td>8533.0</td>\n",
       "      <td>32.0</td>\n",
       "      <td>KOMMUN. PR., 32        YUZHNO SAKHAL</td>\n",
       "      <td>Коммунистический проспект, Южно-Сахалинск, Сах...</td>\n",
       "      <td>46.959413</td>\n",
       "      <td>142.741113</td>\n",
       "      <td>0.009540</td>\n",
       "      <td>1</td>\n",
       "    </tr>\n",
       "    <tr>\n",
       "      <th>3</th>\n",
       "      <td>8684.0</td>\n",
       "      <td>32.0</td>\n",
       "      <td>LENINGRADSKIY PR.,76A  MOSCOW</td>\n",
       "      <td>Ленинградский проспект, 76А, Москва, Россия, 1...</td>\n",
       "      <td>55.805827</td>\n",
       "      <td>37.515146</td>\n",
       "      <td>-0.094035</td>\n",
       "      <td>1</td>\n",
       "    </tr>\n",
       "    <tr>\n",
       "      <th>4</th>\n",
       "      <td>37.0</td>\n",
       "      <td>32.0</td>\n",
       "      <td>GVARDEYSKAYA PL., 2    NORILSK</td>\n",
       "      <td>Гвардейская площадь, 2, Норильск, Красноярский...</td>\n",
       "      <td>69.343541</td>\n",
       "      <td>88.211228</td>\n",
       "      <td>0.079277</td>\n",
       "      <td>1</td>\n",
       "    </tr>\n",
       "    <tr>\n",
       "      <th>...</th>\n",
       "      <td>...</td>\n",
       "      <td>...</td>\n",
       "      <td>...</td>\n",
       "      <td>...</td>\n",
       "      <td>...</td>\n",
       "      <td>...</td>\n",
       "      <td>...</td>\n",
       "      <td>...</td>\n",
       "    </tr>\n",
       "    <tr>\n",
       "      <th>2499</th>\n",
       "      <td>7805.0</td>\n",
       "      <td>5478.0</td>\n",
       "      <td>D. 12, PROEZD ZAREVYI     MOSKVA G</td>\n",
       "      <td>Заревый проезд, 12, Москва, Россия, 127282</td>\n",
       "      <td>55.886488</td>\n",
       "      <td>37.656829</td>\n",
       "      <td>NaN</td>\n",
       "      <td>0</td>\n",
       "    </tr>\n",
       "    <tr>\n",
       "      <th>2500</th>\n",
       "      <td>7395.0</td>\n",
       "      <td>5478.0</td>\n",
       "      <td>D. 2B, UL. MIRA           SOCHI G</td>\n",
       "      <td>улица Мира, 4, Адлерский район, Сочи, Краснода...</td>\n",
       "      <td>43.438310</td>\n",
       "      <td>39.912211</td>\n",
       "      <td>NaN</td>\n",
       "      <td>0</td>\n",
       "    </tr>\n",
       "    <tr>\n",
       "      <th>2501</th>\n",
       "      <td>3339.0</td>\n",
       "      <td>8083.0</td>\n",
       "      <td>KARMANITSKIY, 9        Moskva</td>\n",
       "      <td>Карманицкий переулок, 9, Москва, Россия, 119002</td>\n",
       "      <td>55.748275</td>\n",
       "      <td>37.583571</td>\n",
       "      <td>NaN</td>\n",
       "      <td>0</td>\n",
       "    </tr>\n",
       "    <tr>\n",
       "      <th>2502</th>\n",
       "      <td>675.0</td>\n",
       "      <td>1942.0</td>\n",
       "      <td>3A SHARAPOVSKIY WAY       MYTISHCHI</td>\n",
       "      <td>Шараповская улица, 1, Мытищи, Московская облас...</td>\n",
       "      <td>55.910992</td>\n",
       "      <td>37.748466</td>\n",
       "      <td>NaN</td>\n",
       "      <td>0</td>\n",
       "    </tr>\n",
       "    <tr>\n",
       "      <th>2503</th>\n",
       "      <td>3135.0</td>\n",
       "      <td>8083.0</td>\n",
       "      <td>24 KM MKAD, VLADENIE 1 Moskva</td>\n",
       "      <td>МКАД, 24-й километр, 1, Москва, Россия</td>\n",
       "      <td>55.586807</td>\n",
       "      <td>37.724966</td>\n",
       "      <td>NaN</td>\n",
       "      <td>0</td>\n",
       "    </tr>\n",
       "  </tbody>\n",
       "</table>\n",
       "<p>8765 rows × 8 columns</p>\n",
       "</div>"
      ],
      "text/plain": [
       "          id  atm_group                                 address  \\\n",
       "0     8526.0       32.0  EMELYANOVA,34          Y-SAKHALINSK      \n",
       "1     8532.0       32.0  KOMSOMOLSKAYA,259B     Y.SAKHALINSK      \n",
       "2     8533.0       32.0  KOMMUN. PR., 32        YUZHNO SAKHAL     \n",
       "3     8684.0       32.0  LENINGRADSKIY PR.,76A  MOSCOW            \n",
       "4       37.0       32.0  GVARDEYSKAYA PL., 2    NORILSK           \n",
       "...      ...        ...                                     ...   \n",
       "2499  7805.0     5478.0  D. 12, PROEZD ZAREVYI     MOSKVA G       \n",
       "2500  7395.0     5478.0  D. 2B, UL. MIRA           SOCHI G        \n",
       "2501  3339.0     8083.0  KARMANITSKIY, 9        Moskva            \n",
       "2502   675.0     1942.0  3A SHARAPOVSKIY WAY       MYTISHCHI      \n",
       "2503  3135.0     8083.0  24 KM MKAD, VLADENIE 1 Moskva            \n",
       "\n",
       "                                            address_rus        lat  \\\n",
       "0     улица А.О. Емельянова, 34, Южно-Сахалинск, Сах...  46.940995   \n",
       "1     Комсомольская улица, 259, Южно-Сахалинск, Саха...  46.937353   \n",
       "2     Коммунистический проспект, Южно-Сахалинск, Сах...  46.959413   \n",
       "3     Ленинградский проспект, 76А, Москва, Россия, 1...  55.805827   \n",
       "4     Гвардейская площадь, 2, Норильск, Красноярский...  69.343541   \n",
       "...                                                 ...        ...   \n",
       "2499         Заревый проезд, 12, Москва, Россия, 127282  55.886488   \n",
       "2500  улица Мира, 4, Адлерский район, Сочи, Краснода...  43.438310   \n",
       "2501    Карманицкий переулок, 9, Москва, Россия, 119002  55.748275   \n",
       "2502  Шараповская улица, 1, Мытищи, Московская облас...  55.910992   \n",
       "2503             МКАД, 24-й километр, 1, Москва, Россия  55.586807   \n",
       "\n",
       "            long    target  is_train  \n",
       "0     142.738319  0.011500         1  \n",
       "1     142.753348  0.029710         1  \n",
       "2     142.741113  0.009540         1  \n",
       "3      37.515146 -0.094035         1  \n",
       "4      88.211228  0.079277         1  \n",
       "...          ...       ...       ...  \n",
       "2499   37.656829       NaN         0  \n",
       "2500   39.912211       NaN         0  \n",
       "2501   37.583571       NaN         0  \n",
       "2502   37.748466       NaN         0  \n",
       "2503   37.724966       NaN         0  \n",
       "\n",
       "[8765 rows x 8 columns]"
      ]
     },
     "execution_count": 53,
     "metadata": {},
     "output_type": "execute_result"
    }
   ],
   "source": [
    "\"улица Щетинкина, 18, Абакан, Республика Хакасия, Россия, 655017\""
   ]
  },
  {
   "cell_type": "code",
   "execution_count": null,
   "metadata": {},
   "outputs": [],
   "source": [
    "\"улица Весны, 16А, микрорайон Взлётка, Советский район, Красноярск, Россия\""
   ]
  },
  {
   "cell_type": "code",
   "execution_count": null,
   "metadata": {},
   "outputs": [],
   "source": [
    "\"Комсомольская улица, 1, Улан-Удэ, Республика Бурятия, Россия, 670002\""
   ]
  }
 ],
 "metadata": {
  "kernelspec": {
   "display_name": "Python 3 (ipykernel)",
   "language": "python",
   "name": "python3"
  },
  "language_info": {
   "codemirror_mode": {
    "name": "ipython",
    "version": 3
   },
   "file_extension": ".py",
   "mimetype": "text/x-python",
   "name": "python",
   "nbconvert_exporter": "python",
   "pygments_lexer": "ipython3",
   "version": "3.9.12"
  }
 },
 "nbformat": 4,
 "nbformat_minor": 4
}
