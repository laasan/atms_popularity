{
 "cells": [
  {
   "cell_type": "markdown",
   "metadata": {},
   "source": [
    "## 1 combine_data"
   ]
  },
  {
   "cell_type": "code",
   "execution_count": 1,
   "metadata": {},
   "outputs": [],
   "source": [
    "import pandas as pd"
   ]
  },
  {
   "cell_type": "code",
   "execution_count": 2,
   "metadata": {},
   "outputs": [],
   "source": [
    "train_path = 'C:\\\\Users\\\\Юрий\\\\Documents\\\\MLOps\\\\atms_popularity\\\\data\\\\raw\\\\train.csv'\n",
    "test_path = 'C:\\\\Users\\\\Юрий\\\\Documents\\\\MLOps\\\\atms_popularity\\\\data\\\\raw\\\\test.csv'"
   ]
  },
  {
   "cell_type": "code",
   "execution_count": 3,
   "metadata": {},
   "outputs": [],
   "source": [
    "train_df = pd.read_csv(train_path, index_col=0)\n",
    "test_df = pd.read_csv(test_path, index_col=0)"
   ]
  },
  {
   "cell_type": "code",
   "execution_count": 4,
   "metadata": {},
   "outputs": [
    {
     "data": {
      "text/plain": [
       "((6261, 7), (2504, 6))"
      ]
     },
     "execution_count": 4,
     "metadata": {},
     "output_type": "execute_result"
    }
   ],
   "source": [
    "train_df.shape, test_df.shape"
   ]
  },
  {
   "cell_type": "code",
   "execution_count": 5,
   "metadata": {},
   "outputs": [],
   "source": [
    "train_df[\"is_train\"] = 1\n",
    "test_df[\"is_train\"] = 0"
   ]
  },
  {
   "cell_type": "code",
   "execution_count": 6,
   "metadata": {},
   "outputs": [],
   "source": [
    "combined_df = pd.concat([train_df, test_df], sort=False)"
   ]
  },
  {
   "cell_type": "code",
   "execution_count": 7,
   "metadata": {},
   "outputs": [
    {
     "data": {
      "text/html": [
       "<div>\n",
       "<style scoped>\n",
       "    .dataframe tbody tr th:only-of-type {\n",
       "        vertical-align: middle;\n",
       "    }\n",
       "\n",
       "    .dataframe tbody tr th {\n",
       "        vertical-align: top;\n",
       "    }\n",
       "\n",
       "    .dataframe thead th {\n",
       "        text-align: right;\n",
       "    }\n",
       "</style>\n",
       "<table border=\"1\" class=\"dataframe\">\n",
       "  <thead>\n",
       "    <tr style=\"text-align: right;\">\n",
       "      <th></th>\n",
       "      <th>id</th>\n",
       "      <th>atm_group</th>\n",
       "      <th>address</th>\n",
       "      <th>address_rus</th>\n",
       "      <th>lat</th>\n",
       "      <th>long</th>\n",
       "      <th>target</th>\n",
       "      <th>is_train</th>\n",
       "    </tr>\n",
       "  </thead>\n",
       "  <tbody>\n",
       "    <tr>\n",
       "      <th>0</th>\n",
       "      <td>8526.0</td>\n",
       "      <td>32.0</td>\n",
       "      <td>EMELYANOVA,34          Y-SAKHALINSK</td>\n",
       "      <td>улица А.О. Емельянова, 34, Южно-Сахалинск, Сах...</td>\n",
       "      <td>46.940995</td>\n",
       "      <td>142.738319</td>\n",
       "      <td>0.01150</td>\n",
       "      <td>1</td>\n",
       "    </tr>\n",
       "    <tr>\n",
       "      <th>1</th>\n",
       "      <td>8532.0</td>\n",
       "      <td>32.0</td>\n",
       "      <td>KOMSOMOLSKAYA,259B     Y.SAKHALINSK</td>\n",
       "      <td>Комсомольская улица, 259, Южно-Сахалинск, Саха...</td>\n",
       "      <td>46.937353</td>\n",
       "      <td>142.753348</td>\n",
       "      <td>0.02971</td>\n",
       "      <td>1</td>\n",
       "    </tr>\n",
       "  </tbody>\n",
       "</table>\n",
       "</div>"
      ],
      "text/plain": [
       "       id  atm_group                                 address  \\\n",
       "0  8526.0       32.0  EMELYANOVA,34          Y-SAKHALINSK      \n",
       "1  8532.0       32.0  KOMSOMOLSKAYA,259B     Y.SAKHALINSK      \n",
       "\n",
       "                                         address_rus        lat        long  \\\n",
       "0  улица А.О. Емельянова, 34, Южно-Сахалинск, Сах...  46.940995  142.738319   \n",
       "1  Комсомольская улица, 259, Южно-Сахалинск, Саха...  46.937353  142.753348   \n",
       "\n",
       "    target  is_train  \n",
       "0  0.01150         1  \n",
       "1  0.02971         1  "
      ]
     },
     "execution_count": 7,
     "metadata": {},
     "output_type": "execute_result"
    }
   ],
   "source": [
    "combined_df.head(2)"
   ]
  },
  {
   "cell_type": "code",
   "execution_count": 8,
   "metadata": {},
   "outputs": [
    {
     "data": {
      "text/plain": [
       "(8765, 8)"
      ]
     },
     "execution_count": 8,
     "metadata": {},
     "output_type": "execute_result"
    }
   ],
   "source": [
    "combined_df.shape"
   ]
  },
  {
   "cell_type": "code",
   "execution_count": 9,
   "metadata": {},
   "outputs": [
    {
     "name": "stdout",
     "output_type": "stream",
     "text": [
      "<class 'pandas.core.frame.DataFrame'>\n",
      "Int64Index: 8765 entries, 0 to 2503\n",
      "Data columns (total 8 columns):\n",
      " #   Column       Non-Null Count  Dtype  \n",
      "---  ------       --------------  -----  \n",
      " 0   id           8765 non-null   float64\n",
      " 1   atm_group    8765 non-null   float64\n",
      " 2   address      8765 non-null   object \n",
      " 3   address_rus  8345 non-null   object \n",
      " 4   lat          8345 non-null   float64\n",
      " 5   long         8345 non-null   float64\n",
      " 6   target       6261 non-null   float64\n",
      " 7   is_train     8765 non-null   int64  \n",
      "dtypes: float64(5), int64(1), object(2)\n",
      "memory usage: 616.3+ KB\n"
     ]
    }
   ],
   "source": [
    "combined_df.info()"
   ]
  },
  {
   "cell_type": "code",
   "execution_count": 10,
   "metadata": {},
   "outputs": [
    {
     "data": {
      "text/plain": [
       "id                0\n",
       "atm_group         0\n",
       "address           0\n",
       "address_rus     420\n",
       "lat             420\n",
       "long            420\n",
       "target         2504\n",
       "is_train          0\n",
       "dtype: int64"
      ]
     },
     "execution_count": 10,
     "metadata": {},
     "output_type": "execute_result"
    }
   ],
   "source": [
    "combined_df.isnull().sum()"
   ]
  },
  {
   "cell_type": "markdown",
   "metadata": {},
   "source": [
    "## 2 find_gaps"
   ]
  },
  {
   "cell_type": "code",
   "execution_count": 11,
   "metadata": {
    "scrolled": true
   },
   "outputs": [
    {
     "data": {
      "text/html": [
       "<div>\n",
       "<style scoped>\n",
       "    .dataframe tbody tr th:only-of-type {\n",
       "        vertical-align: middle;\n",
       "    }\n",
       "\n",
       "    .dataframe tbody tr th {\n",
       "        vertical-align: top;\n",
       "    }\n",
       "\n",
       "    .dataframe thead th {\n",
       "        text-align: right;\n",
       "    }\n",
       "</style>\n",
       "<table border=\"1\" class=\"dataframe\">\n",
       "  <thead>\n",
       "    <tr style=\"text-align: right;\">\n",
       "      <th></th>\n",
       "      <th>id</th>\n",
       "      <th>atm_group</th>\n",
       "      <th>address</th>\n",
       "      <th>address_rus</th>\n",
       "      <th>lat</th>\n",
       "      <th>long</th>\n",
       "      <th>target</th>\n",
       "      <th>is_train</th>\n",
       "    </tr>\n",
       "  </thead>\n",
       "  <tbody>\n",
       "    <tr>\n",
       "      <th>40</th>\n",
       "      <td>4510.0</td>\n",
       "      <td>496.5</td>\n",
       "      <td>PER. BAZARNY 4            SPASSK-DALNY</td>\n",
       "      <td>NaN</td>\n",
       "      <td>NaN</td>\n",
       "      <td>NaN</td>\n",
       "      <td>0.039191</td>\n",
       "      <td>1</td>\n",
       "    </tr>\n",
       "    <tr>\n",
       "      <th>150</th>\n",
       "      <td>347.0</td>\n",
       "      <td>1022.0</td>\n",
       "      <td>ABB 6B NAB-CHELNINSKIJ    NAB.CHELNY</td>\n",
       "      <td>NaN</td>\n",
       "      <td>NaN</td>\n",
       "      <td>NaN</td>\n",
       "      <td>-0.145001</td>\n",
       "      <td>1</td>\n",
       "    </tr>\n",
       "    <tr>\n",
       "      <th>182</th>\n",
       "      <td>1591.0</td>\n",
       "      <td>1942.0</td>\n",
       "      <td>16A BEREJKOVSK NAB        MOSCOW</td>\n",
       "      <td>NaN</td>\n",
       "      <td>NaN</td>\n",
       "      <td>NaN</td>\n",
       "      <td>0.080034</td>\n",
       "      <td>1</td>\n",
       "    </tr>\n",
       "    <tr>\n",
       "      <th>192</th>\n",
       "      <td>440.0</td>\n",
       "      <td>1942.0</td>\n",
       "      <td>113 MIRA AV.              TOGLIATTI</td>\n",
       "      <td>NaN</td>\n",
       "      <td>NaN</td>\n",
       "      <td>NaN</td>\n",
       "      <td>-0.082956</td>\n",
       "      <td>1</td>\n",
       "    </tr>\n",
       "    <tr>\n",
       "      <th>214</th>\n",
       "      <td>556.0</td>\n",
       "      <td>1942.0</td>\n",
       "      <td>133A MOZHAYSKOE H/W.      MOSCOW</td>\n",
       "      <td>NaN</td>\n",
       "      <td>NaN</td>\n",
       "      <td>NaN</td>\n",
       "      <td>0.061517</td>\n",
       "      <td>1</td>\n",
       "    </tr>\n",
       "    <tr>\n",
       "      <th>...</th>\n",
       "      <td>...</td>\n",
       "      <td>...</td>\n",
       "      <td>...</td>\n",
       "      <td>...</td>\n",
       "      <td>...</td>\n",
       "      <td>...</td>\n",
       "      <td>...</td>\n",
       "      <td>...</td>\n",
       "    </tr>\n",
       "    <tr>\n",
       "      <th>2346</th>\n",
       "      <td>3199.0</td>\n",
       "      <td>8083.0</td>\n",
       "      <td>MOROZOVA P.L., 86      KHabarovsk</td>\n",
       "      <td>NaN</td>\n",
       "      <td>NaN</td>\n",
       "      <td>NaN</td>\n",
       "      <td>NaN</td>\n",
       "      <td>0</td>\n",
       "    </tr>\n",
       "    <tr>\n",
       "      <th>2399</th>\n",
       "      <td>5354.0</td>\n",
       "      <td>5478.0</td>\n",
       "      <td>D. 15, UL. 78 DOBROVOL'CH KRASNOYARSK</td>\n",
       "      <td>NaN</td>\n",
       "      <td>NaN</td>\n",
       "      <td>NaN</td>\n",
       "      <td>NaN</td>\n",
       "      <td>0</td>\n",
       "    </tr>\n",
       "    <tr>\n",
       "      <th>2471</th>\n",
       "      <td>3333.0</td>\n",
       "      <td>8083.0</td>\n",
       "      <td>OKTYABRSKAYA, 105      Tver</td>\n",
       "      <td>NaN</td>\n",
       "      <td>NaN</td>\n",
       "      <td>NaN</td>\n",
       "      <td>NaN</td>\n",
       "      <td>0</td>\n",
       "    </tr>\n",
       "    <tr>\n",
       "      <th>2474</th>\n",
       "      <td>2247.0</td>\n",
       "      <td>3185.5</td>\n",
       "      <td>UL. TELEVIZORNAJA,        KRASNOJARSK</td>\n",
       "      <td>NaN</td>\n",
       "      <td>NaN</td>\n",
       "      <td>NaN</td>\n",
       "      <td>NaN</td>\n",
       "      <td>0</td>\n",
       "    </tr>\n",
       "    <tr>\n",
       "      <th>2486</th>\n",
       "      <td>5347.0</td>\n",
       "      <td>5478.0</td>\n",
       "      <td>D. 109, KORP. 3, UL. BOGD CHEBOXARY G</td>\n",
       "      <td>NaN</td>\n",
       "      <td>NaN</td>\n",
       "      <td>NaN</td>\n",
       "      <td>NaN</td>\n",
       "      <td>0</td>\n",
       "    </tr>\n",
       "  </tbody>\n",
       "</table>\n",
       "<p>420 rows × 8 columns</p>\n",
       "</div>"
      ],
      "text/plain": [
       "          id  atm_group                                 address address_rus  \\\n",
       "40    4510.0      496.5  PER. BAZARNY 4            SPASSK-DALNY         NaN   \n",
       "150    347.0     1022.0  ABB 6B NAB-CHELNINSKIJ    NAB.CHELNY           NaN   \n",
       "182   1591.0     1942.0  16A BEREJKOVSK NAB        MOSCOW               NaN   \n",
       "192    440.0     1942.0  113 MIRA AV.              TOGLIATTI            NaN   \n",
       "214    556.0     1942.0  133A MOZHAYSKOE H/W.      MOSCOW               NaN   \n",
       "...      ...        ...                                     ...         ...   \n",
       "2346  3199.0     8083.0  MOROZOVA P.L., 86      KHabarovsk              NaN   \n",
       "2399  5354.0     5478.0  D. 15, UL. 78 DOBROVOL'CH KRASNOYARSK          NaN   \n",
       "2471  3333.0     8083.0  OKTYABRSKAYA, 105      Tver                    NaN   \n",
       "2474  2247.0     3185.5  UL. TELEVIZORNAJA,        KRASNOJARSK          NaN   \n",
       "2486  5347.0     5478.0  D. 109, KORP. 3, UL. BOGD CHEBOXARY G          NaN   \n",
       "\n",
       "      lat  long    target  is_train  \n",
       "40    NaN   NaN  0.039191         1  \n",
       "150   NaN   NaN -0.145001         1  \n",
       "182   NaN   NaN  0.080034         1  \n",
       "192   NaN   NaN -0.082956         1  \n",
       "214   NaN   NaN  0.061517         1  \n",
       "...   ...   ...       ...       ...  \n",
       "2346  NaN   NaN       NaN         0  \n",
       "2399  NaN   NaN       NaN         0  \n",
       "2471  NaN   NaN       NaN         0  \n",
       "2474  NaN   NaN       NaN         0  \n",
       "2486  NaN   NaN       NaN         0  \n",
       "\n",
       "[420 rows x 8 columns]"
      ]
     },
     "execution_count": 11,
     "metadata": {},
     "output_type": "execute_result"
    }
   ],
   "source": [
    "combined_df[combined_df['address_rus'].isnull()]"
   ]
  },
  {
   "cell_type": "markdown",
   "metadata": {},
   "source": [
    "## 3 data_enrichment_via_API"
   ]
  },
  {
   "cell_type": "code",
   "execution_count": 12,
   "metadata": {},
   "outputs": [],
   "source": [
    "df = pd.DataFrame()"
   ]
  },
  {
   "cell_type": "code",
   "execution_count": 13,
   "metadata": {},
   "outputs": [
    {
     "data": {
      "text/html": [
       "<div>\n",
       "<style scoped>\n",
       "    .dataframe tbody tr th:only-of-type {\n",
       "        vertical-align: middle;\n",
       "    }\n",
       "\n",
       "    .dataframe tbody tr th {\n",
       "        vertical-align: top;\n",
       "    }\n",
       "\n",
       "    .dataframe thead th {\n",
       "        text-align: right;\n",
       "    }\n",
       "</style>\n",
       "<table border=\"1\" class=\"dataframe\">\n",
       "  <thead>\n",
       "    <tr style=\"text-align: right;\">\n",
       "      <th></th>\n",
       "    </tr>\n",
       "  </thead>\n",
       "  <tbody>\n",
       "  </tbody>\n",
       "</table>\n",
       "</div>"
      ],
      "text/plain": [
       "Empty DataFrame\n",
       "Columns: []\n",
       "Index: []"
      ]
     },
     "execution_count": 13,
     "metadata": {},
     "output_type": "execute_result"
    }
   ],
   "source": [
    "df"
   ]
  },
  {
   "cell_type": "code",
   "execution_count": 14,
   "metadata": {},
   "outputs": [],
   "source": [
    "answer = {\n",
    "    \"source\": \"PER. BAZARNY 4            SPASSK-DALNY\",\n",
    "    \"result\": \"Приморский край, г Спасск-Дальний, пер Базарный, д 4\",\n",
    "    \"postal_code\": \"692245\",\n",
    "    \"country\": \"Россия\",\n",
    "    \"country_iso_code\": \"RU\",\n",
    "    \"federal_district\": \"Дальневосточный\",\n",
    "    \"region_fias_id\": \"43909681-d6e1-432d-b61f-ddac393cb5da\",\n",
    "    \"region_kladr_id\": \"2500000000000\",\n",
    "    \"region_iso_code\": \"RU-PRI\",\n",
    "    \"region_with_type\": \"Приморский край\",\n",
    "    \"region_type\": \"край\",\n",
    "    \"region_type_full\": \"край\",\n",
    "    \"region\": \"Приморский\",\n",
    "    \"area_fias_id\": None,\n",
    "    \"area_kladr_id\": None,\n",
    "    \"area_with_type\": None,\n",
    "    \"area_type\": None,\n",
    "    \"area_type_full\": None,\n",
    "    \"area\": None,\n",
    "    \"city_fias_id\": \"e55554eb-c571-49d2-bf69-c3c4acf8b10b\",\n",
    "    \"city_kladr_id\": \"2500001000000\",\n",
    "    \"city_with_type\": \"г Спасск-Дальний\",\n",
    "    \"city_type\": \"г\",\n",
    "    \"city_type_full\": \"город\",\n",
    "    \"city\": \"Спасск-Дальний\",\n",
    "    \"city_area\": None,\n",
    "    \"city_district_fias_id\": None,\n",
    "    \"city_district_kladr_id\": None,\n",
    "    \"city_district_with_type\": None,\n",
    "    \"city_district_type\": None,\n",
    "    \"city_district_type_full\": None,\n",
    "    \"city_district\": None,\n",
    "    \"settlement_fias_id\": None,\n",
    "    \"settlement_kladr_id\": None,\n",
    "    \"settlement_with_type\": None,\n",
    "    \"settlement_type\": None,\n",
    "    \"settlement_type_full\": None,\n",
    "    \"settlement\": None,\n",
    "    \"street_fias_id\": \"36781579-7de6-4a68-877b-bce878cd92b4\",\n",
    "    \"street_kladr_id\": \"25000010000015600\",\n",
    "    \"street_with_type\": \"пер Базарный\",\n",
    "    \"street_type\": \"пер\",\n",
    "    \"street_type_full\": \"переулок\",\n",
    "    \"street\": \"Базарный\",\n",
    "    \"house_fias_id\": \"5d57fcf1-29ba-4a45-95d9-ad43c4a74be4\",\n",
    "    \"house_kladr_id\": \"2500001000001560001\",\n",
    "    \"house_type\": \"д\",\n",
    "    \"house_type_full\": \"дом\",\n",
    "    \"house\": \"4\",\n",
    "    \"block_type\": None,\n",
    "    \"block_type_full\": None,\n",
    "    \"block\": None,\n",
    "    \"entrance\": None,\n",
    "    \"floor\": None,\n",
    "    \"flat_fias_id\": None,\n",
    "    \"flat_type\": None,\n",
    "    \"flat_type_full\": None,\n",
    "    \"flat\": None,\n",
    "    \"flat_area\": None,\n",
    "    \"square_meter_price\": None,\n",
    "    \"flat_price\": None,\n",
    "    \"postal_box\": None,\n",
    "    \"fias_id\": \"5d57fcf1-29ba-4a45-95d9-ad43c4a74be4\",\n",
    "    \"fias_code\": \"25000010000000001560001\",\n",
    "    \"fias_level\": \"8\",\n",
    "    \"fias_actuality_state\": \"0\",\n",
    "    \"kladr_id\": \"2500001000001560001\",\n",
    "    \"capital_marker\": \"0\",\n",
    "    \"okato\": \"05420000000\",\n",
    "    \"oktmo\": \"05720000001\",\n",
    "    \"tax_office\": \"2502\",\n",
    "    \"tax_office_legal\": \"2502\",\n",
    "    \"timezone\": \"UTC+10\",\n",
    "    \"geo_lat\": \"44.5901175\",\n",
    "    \"geo_lon\": \"132.8157288\",\n",
    "    \"beltway_hit\": None,\n",
    "    \"beltway_distance\": None,\n",
    "    \"qc_geo\": 4,\n",
    "    \"qc_complete\": 9,\n",
    "    \"qc_house\": 2,\n",
    "    \"qc\": 1,\n",
    "    \"unparsed_parts\": \"ДАЛЬНЫ\",\n",
    "    \"metro\": None,\n",
    "}"
   ]
  },
  {
   "cell_type": "code",
   "execution_count": 15,
   "metadata": {},
   "outputs": [
    {
     "data": {
      "text/plain": [
       "('Приморский край, г Спасск-Дальний, пер Базарный, д 4',\n",
       " '44.5901175',\n",
       " '132.8157288',\n",
       " 4)"
      ]
     },
     "execution_count": 15,
     "metadata": {},
     "output_type": "execute_result"
    }
   ],
   "source": [
    "answer['result'], answer[\"geo_lat\"], answer[\"geo_lon\"], answer['qc_geo']"
   ]
  },
  {
   "cell_type": "code",
   "execution_count": 16,
   "metadata": {},
   "outputs": [],
   "source": [
    "query1 = pd.DataFrame.from_dict([answer])"
   ]
  },
  {
   "cell_type": "code",
   "execution_count": 17,
   "metadata": {},
   "outputs": [
    {
     "data": {
      "text/html": [
       "<div>\n",
       "<style scoped>\n",
       "    .dataframe tbody tr th:only-of-type {\n",
       "        vertical-align: middle;\n",
       "    }\n",
       "\n",
       "    .dataframe tbody tr th {\n",
       "        vertical-align: top;\n",
       "    }\n",
       "\n",
       "    .dataframe thead th {\n",
       "        text-align: right;\n",
       "    }\n",
       "</style>\n",
       "<table border=\"1\" class=\"dataframe\">\n",
       "  <thead>\n",
       "    <tr style=\"text-align: right;\">\n",
       "      <th></th>\n",
       "      <th>source</th>\n",
       "      <th>result</th>\n",
       "      <th>postal_code</th>\n",
       "      <th>country</th>\n",
       "      <th>country_iso_code</th>\n",
       "      <th>federal_district</th>\n",
       "      <th>region_fias_id</th>\n",
       "      <th>region_kladr_id</th>\n",
       "      <th>region_iso_code</th>\n",
       "      <th>region_with_type</th>\n",
       "      <th>...</th>\n",
       "      <th>geo_lat</th>\n",
       "      <th>geo_lon</th>\n",
       "      <th>beltway_hit</th>\n",
       "      <th>beltway_distance</th>\n",
       "      <th>qc_geo</th>\n",
       "      <th>qc_complete</th>\n",
       "      <th>qc_house</th>\n",
       "      <th>qc</th>\n",
       "      <th>unparsed_parts</th>\n",
       "      <th>metro</th>\n",
       "    </tr>\n",
       "  </thead>\n",
       "  <tbody>\n",
       "    <tr>\n",
       "      <th>0</th>\n",
       "      <td>PER. BAZARNY 4            SPASSK-DALNY</td>\n",
       "      <td>Приморский край, г Спасск-Дальний, пер Базарны...</td>\n",
       "      <td>692245</td>\n",
       "      <td>Россия</td>\n",
       "      <td>RU</td>\n",
       "      <td>Дальневосточный</td>\n",
       "      <td>43909681-d6e1-432d-b61f-ddac393cb5da</td>\n",
       "      <td>2500000000000</td>\n",
       "      <td>RU-PRI</td>\n",
       "      <td>Приморский край</td>\n",
       "      <td>...</td>\n",
       "      <td>44.5901175</td>\n",
       "      <td>132.8157288</td>\n",
       "      <td>None</td>\n",
       "      <td>None</td>\n",
       "      <td>4</td>\n",
       "      <td>9</td>\n",
       "      <td>2</td>\n",
       "      <td>1</td>\n",
       "      <td>ДАЛЬНЫ</td>\n",
       "      <td>None</td>\n",
       "    </tr>\n",
       "  </tbody>\n",
       "</table>\n",
       "<p>1 rows × 83 columns</p>\n",
       "</div>"
      ],
      "text/plain": [
       "                                   source  \\\n",
       "0  PER. BAZARNY 4            SPASSK-DALNY   \n",
       "\n",
       "                                              result postal_code country  \\\n",
       "0  Приморский край, г Спасск-Дальний, пер Базарны...      692245  Россия   \n",
       "\n",
       "  country_iso_code federal_district                        region_fias_id  \\\n",
       "0               RU  Дальневосточный  43909681-d6e1-432d-b61f-ddac393cb5da   \n",
       "\n",
       "  region_kladr_id region_iso_code region_with_type  ...     geo_lat  \\\n",
       "0   2500000000000          RU-PRI  Приморский край  ...  44.5901175   \n",
       "\n",
       "       geo_lon beltway_hit beltway_distance qc_geo qc_complete qc_house qc  \\\n",
       "0  132.8157288        None             None      4           9        2  1   \n",
       "\n",
       "  unparsed_parts metro  \n",
       "0         ДАЛЬНЫ  None  \n",
       "\n",
       "[1 rows x 83 columns]"
      ]
     },
     "execution_count": 17,
     "metadata": {},
     "output_type": "execute_result"
    }
   ],
   "source": [
    "pd.concat([df, query1])"
   ]
  },
  {
   "cell_type": "code",
   "execution_count": 20,
   "metadata": {},
   "outputs": [],
   "source": [
    "result = pd.read_csv('C:\\\\Users\\\\Юрий\\\\Documents\\\\MLOps\\\\atms_popularity\\\\data\\\\interim\\\\geocoded_data.csv')"
   ]
  },
  {
   "cell_type": "code",
   "execution_count": 23,
   "metadata": {},
   "outputs": [
    {
     "data": {
      "text/html": [
       "<div>\n",
       "<style scoped>\n",
       "    .dataframe tbody tr th:only-of-type {\n",
       "        vertical-align: middle;\n",
       "    }\n",
       "\n",
       "    .dataframe tbody tr th {\n",
       "        vertical-align: top;\n",
       "    }\n",
       "\n",
       "    .dataframe thead th {\n",
       "        text-align: right;\n",
       "    }\n",
       "</style>\n",
       "<table border=\"1\" class=\"dataframe\">\n",
       "  <thead>\n",
       "    <tr style=\"text-align: right;\">\n",
       "      <th></th>\n",
       "      <th>source</th>\n",
       "      <th>result</th>\n",
       "      <th>qc</th>\n",
       "      <th>qc_complete</th>\n",
       "      <th>qc_geo</th>\n",
       "      <th>qc_house</th>\n",
       "    </tr>\n",
       "  </thead>\n",
       "  <tbody>\n",
       "    <tr>\n",
       "      <th>0</th>\n",
       "      <td>PER. BAZARNY 4            SPASSK-DALNY</td>\n",
       "      <td>Приморский край, г Спасск-Дальний, пер Базарны...</td>\n",
       "      <td>1</td>\n",
       "      <td>9</td>\n",
       "      <td>4</td>\n",
       "      <td>2</td>\n",
       "    </tr>\n",
       "    <tr>\n",
       "      <th>1</th>\n",
       "      <td>ABB 6B NAB-CHELNINSKIJ    NAB.CHELNY</td>\n",
       "      <td>Респ Татарстан, г Набережные Челны</td>\n",
       "      <td>1</td>\n",
       "      <td>3</td>\n",
       "      <td>4</td>\n",
       "      <td>10</td>\n",
       "    </tr>\n",
       "    <tr>\n",
       "      <th>2</th>\n",
       "      <td>16A BEREJKOVSK NAB        MOSCOW</td>\n",
       "      <td>г Москва</td>\n",
       "      <td>1</td>\n",
       "      <td>3</td>\n",
       "      <td>4</td>\n",
       "      <td>10</td>\n",
       "    </tr>\n",
       "  </tbody>\n",
       "</table>\n",
       "</div>"
      ],
      "text/plain": [
       "                                   source  \\\n",
       "0  PER. BAZARNY 4            SPASSK-DALNY   \n",
       "1  ABB 6B NAB-CHELNINSKIJ    NAB.CHELNY     \n",
       "2  16A BEREJKOVSK NAB        MOSCOW         \n",
       "\n",
       "                                              result  qc  qc_complete  qc_geo  \\\n",
       "0  Приморский край, г Спасск-Дальний, пер Базарны...   1            9       4   \n",
       "1                 Респ Татарстан, г Набережные Челны   1            3       4   \n",
       "2                                           г Москва   1            3       4   \n",
       "\n",
       "   qc_house  \n",
       "0         2  \n",
       "1        10  \n",
       "2        10  "
      ]
     },
     "execution_count": 23,
     "metadata": {},
     "output_type": "execute_result"
    }
   ],
   "source": [
    "result[['source', 'result', 'qc', 'qc_complete', 'qc_geo', 'qc_house']]"
   ]
  },
  {
   "cell_type": "code",
   "execution_count": null,
   "metadata": {},
   "outputs": [],
   "source": []
  }
 ],
 "metadata": {
  "kernelspec": {
   "display_name": "Python 3 (ipykernel)",
   "language": "python",
   "name": "python3"
  },
  "language_info": {
   "codemirror_mode": {
    "name": "ipython",
    "version": 3
   },
   "file_extension": ".py",
   "mimetype": "text/x-python",
   "name": "python",
   "nbconvert_exporter": "python",
   "pygments_lexer": "ipython3",
   "version": "3.9.12"
  }
 },
 "nbformat": 4,
 "nbformat_minor": 4
}
